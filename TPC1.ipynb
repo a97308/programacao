{
 "cells": [
  {
   "cell_type": "code",
   "execution_count": 3,
   "id": "8f7b178d-7404-4258-a716-ad074eb0efe2",
   "metadata": {},
   "outputs": [
    {
     "name": "stdout",
     "output_type": "stream",
     "text": [
      "1-Jogador ou 2-Computador?2\n",
      "O computador tira 1\n",
      "Ficam 20 fosforos\n",
      "Insira um valor: 4\n",
      "O computador tira 1\n",
      "Ficam 15 fosforos\n",
      "Insira um valor: 4\n",
      "O computador tira 2\n",
      "Ficam 9 fosforos\n",
      "Insira um valor: 3\n",
      "O computador tira 1\n",
      "Ficam 5 fosforos\n",
      "Insira um valor: 4\n",
      "Ganhou o jogo\n"
     ]
    }
   ],
   "source": [
    "import random\n",
    "\n",
    "def menu ():\n",
    "    a = int(input(\"1-Jogador ou 2-Computador?\"))\n",
    "    escolher(a)\n",
    "\n",
    "def escolher(a):\n",
    "    if a == 1:\n",
    "        inicio = 21\n",
    "        while inicio > 1:\n",
    "            valor1 = int(input(\"Insira um valor: \"))\n",
    "            valor2 = 5 - valor1\n",
    "            inicio = inicio - 5\n",
    "            print(\"O computador tira\",valor2)\n",
    "            print(\"Ficam\",inicio,\"fosforos\")\n",
    "            if inicio == 1:\n",
    "                print(\"Perdeu o jogo\")\n",
    "    elif a == 2:\n",
    "        inicio=21\n",
    "        while inicio>1:\n",
    "            valor2 = random. randrange(1,4,1)\n",
    "            print(\"O computador tira\",valor2)\n",
    "            inicio=inicio-valor2\n",
    "            print(\"Ficam\",inicio,\"fosforos\")\n",
    "            valor1 = int(input('Insira um valor: '))\n",
    "            inicio = inicio - valor1\n",
    "            if valor1 + valor2 != 5:\n",
    "                c = 5 - valor1 - valor2\n",
    "                print(\"O computador tira\",c)\n",
    "                inicio = inicio - c\n",
    "                print(\"Fica\",inicio,\"fosforos\")\n",
    "                while inicio > 1:\n",
    "                    valor1 = int(input(\"Insira um valor: \"))\n",
    "                    valor2 = 5 - valor1\n",
    "                    inicio = inicio -valor1-valor2\n",
    "                    print(\"O computador tira\",valor2)\n",
    "                    print(\"Ficam\",inicio,\"fosforos\")\n",
    "                    if inicio == 1:\n",
    "                        print(\"Perdeu o jogo\")\n",
    "            elif inicio==1:\n",
    "                print(\"Ganhou o jogo\")\n",
    "                \n",
    "menu()"
   ]
  },
  {
   "cell_type": "code",
   "execution_count": null,
   "id": "4ab5f0dc",
   "metadata": {},
   "outputs": [],
   "source": []
  },
  {
   "cell_type": "code",
   "execution_count": null,
   "id": "5e00975d",
   "metadata": {},
   "outputs": [],
   "source": []
  },
  {
   "cell_type": "code",
   "execution_count": null,
   "id": "dc4b651b",
   "metadata": {},
   "outputs": [],
   "source": []
  },
  {
   "cell_type": "code",
   "execution_count": null,
   "id": "d603aa0e",
   "metadata": {},
   "outputs": [],
   "source": []
  }
 ],
 "metadata": {
  "kernelspec": {
   "display_name": "Python 3",
   "language": "python",
   "name": "python3"
  },
  "language_info": {
   "codemirror_mode": {
    "name": "ipython",
    "version": 3
   },
   "file_extension": ".py",
   "mimetype": "text/x-python",
   "name": "python",
   "nbconvert_exporter": "python",
   "pygments_lexer": "ipython3",
   "version": "3.8.8"
  }
 },
 "nbformat": 4,
 "nbformat_minor": 5
}
